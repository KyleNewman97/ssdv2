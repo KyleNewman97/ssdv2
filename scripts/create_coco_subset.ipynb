{
 "cells": [
  {
   "cell_type": "markdown",
   "id": "73425592",
   "metadata": {},
   "source": [
    "## Creates COCO subset\n",
    "Creates a subset of the COCO dataset with the specified attributes."
   ]
  },
  {
   "cell_type": "code",
   "execution_count": null,
   "id": "5d16a01c",
   "metadata": {},
   "outputs": [],
   "source": [
    "from pathlib import Path"
   ]
  }
 ],
 "metadata": {
  "language_info": {
   "name": "python"
  }
 },
 "nbformat": 4,
 "nbformat_minor": 5
}
