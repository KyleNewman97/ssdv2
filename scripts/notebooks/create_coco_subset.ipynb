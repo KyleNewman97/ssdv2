{
 "cells": [
  {
   "cell_type": "markdown",
   "id": "73425592",
   "metadata": {},
   "source": [
    "## Creates COCO subset\n",
    "Creates a subset of the COCO dataset with the specified attributes."
   ]
  },
  {
   "cell_type": "code",
   "execution_count": null,
   "id": "5d16a01c",
   "metadata": {},
   "outputs": [],
   "source": [
    "from pathlib import Path\n",
    "\n",
    "import torch\n",
    "from tqdm import tqdm\n",
    "\n",
    "from ssdv2.dataset import DatasetManager\n",
    "from ssdv2.structs import DataSubset, FrameLabels"
   ]
  },
  {
   "cell_type": "markdown",
   "id": "0d2b1807",
   "metadata": {},
   "source": [
    "### Define contants"
   ]
  },
  {
   "cell_type": "code",
   "execution_count": null,
   "id": "6a09217e",
   "metadata": {},
   "outputs": [],
   "source": [
    "INPUT_DATASET_DIR = Path(\"\")\n",
    "OUTPUT_DATASET_DIR = Path(\"\")\n",
    "DTYPE = torch.float32\n",
    "DEVICE = torch.device(\"cpu\")\n",
    "\n",
    "KEEP_CLASS_IDS = torch.tensor([0, 1, 2, 3, 5, 7, 15, 16], dtype=DTYPE, device=DEVICE)"
   ]
  },
  {
   "cell_type": "markdown",
   "id": "948fbfe9",
   "metadata": {},
   "source": [
    "### Create input and output data managers"
   ]
  },
  {
   "cell_type": "code",
   "execution_count": null,
   "id": "1bd0cf1e",
   "metadata": {},
   "outputs": [],
   "source": [
    "# Load in the existing dataset\n",
    "input_manager = DatasetManager(INPUT_DATASET_DIR)\n",
    "new_class_names = input_manager.subset_class_names(KEEP_CLASS_IDS.cpu().tolist())"
   ]
  },
  {
   "cell_type": "code",
   "execution_count": null,
   "id": "5c72aa02",
   "metadata": {},
   "outputs": [],
   "source": [
    "# Create the new dataset folder\n",
    "output_manager = DatasetManager.create_new_dataset(OUTPUT_DATASET_DIR, new_class_names)"
   ]
  },
  {
   "cell_type": "markdown",
   "id": "c244fb6c",
   "metadata": {},
   "source": [
    "### Filter and copy samples into the new dataset"
   ]
  },
  {
   "cell_type": "code",
   "execution_count": null,
   "id": "e2805fb6",
   "metadata": {},
   "outputs": [],
   "source": [
    "def filter_and_copy_subset(subset: DataSubset):\n",
    "    sampler = input_manager.create_sampler(subset, DTYPE, DEVICE)\n",
    "    for image_file, label_file in tqdm(sampler.samples):\n",
    "        # Load in objects and filter them to only contain the desired classes\n",
    "        objects = FrameLabels.from_file(\n",
    "            label_file, input_manager.raw_class_names, DTYPE, DEVICE\n",
    "        )\n",
    "        filtered_objects = objects.change_classes(KEEP_CLASS_IDS)\n",
    "\n",
    "        # If this image contains none of the objects then remove the image\n",
    "        if len(filtered_objects) == 0:\n",
    "            continue\n",
    "\n",
    "        # Write the kept samples to the new dataset\n",
    "        output_manager.add_image_label_pair(image_file, filtered_objects, subset)"
   ]
  },
  {
   "cell_type": "code",
   "execution_count": null,
   "id": "e815f6b3",
   "metadata": {},
   "outputs": [],
   "source": [
    "filter_and_copy_subset(DataSubset.TRAIN)"
   ]
  },
  {
   "cell_type": "code",
   "execution_count": null,
   "id": "92dc4a1a",
   "metadata": {},
   "outputs": [],
   "source": [
    "filter_and_copy_subset(DataSubset.VAL)"
   ]
  },
  {
   "cell_type": "code",
   "execution_count": null,
   "id": "c406cfcc",
   "metadata": {},
   "outputs": [],
   "source": []
  }
 ],
 "metadata": {
  "kernelspec": {
   "display_name": "ssdv2-3.11 (3.11.13)",
   "language": "python",
   "name": "python3"
  },
  "language_info": {
   "codemirror_mode": {
    "name": "ipython",
    "version": 3
   },
   "file_extension": ".py",
   "mimetype": "text/x-python",
   "name": "python",
   "nbconvert_exporter": "python",
   "pygments_lexer": "ipython3",
   "version": "3.11.13"
  }
 },
 "nbformat": 4,
 "nbformat_minor": 5
}
