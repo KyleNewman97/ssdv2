{
 "cells": [
  {
   "cell_type": "markdown",
   "id": "73425592",
   "metadata": {},
   "source": [
    "## Creates COCO subset\n",
    "Creates a subset of the COCO dataset with the specified attributes."
   ]
  },
  {
   "cell_type": "code",
   "execution_count": null,
   "id": "5d16a01c",
   "metadata": {},
   "outputs": [],
   "source": [
    "from pathlib import Path\n",
    "\n",
    "import torch\n",
    "from tqdm import tqdm\n",
    "\n",
    "from ssdv2.dataset import DatasetManager\n",
    "from ssdv2.structs import FrameLabels"
   ]
  },
  {
   "cell_type": "code",
   "execution_count": null,
   "id": "6a09217e",
   "metadata": {},
   "outputs": [],
   "source": [
    "DATASET_DIR = Path(\"/mnt/data/datasets/object_detection/coco/\")\n",
    "KEEP_CLASS_IDS = [0, 2, 3, 5, 7]\n",
    "DTYPE = torch.float32\n",
    "DEVICE = torch.device(\"cpu\")"
   ]
  },
  {
   "cell_type": "code",
   "execution_count": null,
   "id": "1bd0cf1e",
   "metadata": {},
   "outputs": [],
   "source": [
    "manager = DatasetManager(DATASET_DIR)"
   ]
  },
  {
   "cell_type": "code",
   "execution_count": null,
   "id": "e815f6b3",
   "metadata": {},
   "outputs": [],
   "source": [
    "train_label_files = list(manager.train_labels_dir.glob(\"*.txt\"))\n",
    "for label_file in tqdm(train_label_files):\n",
    "    objects = FrameLabels.from_file(label_file, DTYPE, DEVICE)"
   ]
  },
  {
   "cell_type": "code",
   "execution_count": null,
   "id": "92dc4a1a",
   "metadata": {},
   "outputs": [],
   "source": []
  }
 ],
 "metadata": {
  "kernelspec": {
   "display_name": "ssdv2-3.11 (3.11.13)",
   "language": "python",
   "name": "python3"
  },
  "language_info": {
   "codemirror_mode": {
    "name": "ipython",
    "version": 3
   },
   "file_extension": ".py",
   "mimetype": "text/x-python",
   "name": "python",
   "nbconvert_exporter": "python",
   "pygments_lexer": "ipython3",
   "version": "3.11.13"
  }
 },
 "nbformat": 4,
 "nbformat_minor": 5
}
