{
 "cells": [
  {
   "cell_type": "markdown",
   "id": "73425592",
   "metadata": {},
   "source": [
    "## Creates COCO subset\n",
    "Creates a subset of the COCO dataset with the specified attributes."
   ]
  },
  {
   "cell_type": "code",
   "execution_count": null,
   "id": "5d16a01c",
   "metadata": {},
   "outputs": [],
   "source": [
    "from pathlib import Path\n",
    "\n",
    "from tqdm import tqdm\n",
    "\n",
    "from ssdv2.dataset import DatasetManager"
   ]
  },
  {
   "cell_type": "code",
   "execution_count": null,
   "id": "6a09217e",
   "metadata": {},
   "outputs": [],
   "source": [
    "DATASET_DIR = Path(\"\")"
   ]
  },
  {
   "cell_type": "code",
   "execution_count": null,
   "id": "1bd0cf1e",
   "metadata": {},
   "outputs": [],
   "source": [
    "manager = DatasetManager(DATASET_DIR)"
   ]
  },
  {
   "cell_type": "code",
   "execution_count": null,
   "id": "e815f6b3",
   "metadata": {},
   "outputs": [],
   "source": [
    "train_label_files = list(manager.train_labels_dir.glob(\"*.txt\"))\n",
    "for label_file in tqdm(train_label_files):\n",
    "    pass"
   ]
  },
  {
   "cell_type": "code",
   "execution_count": null,
   "id": "3613862e",
   "metadata": {},
   "outputs": [],
   "source": []
  }
 ],
 "metadata": {
  "kernelspec": {
   "display_name": "ssdv2-3.11 (3.11.13)",
   "language": "python",
   "name": "python3"
  },
  "language_info": {
   "codemirror_mode": {
    "name": "ipython",
    "version": 3
   },
   "file_extension": ".py",
   "mimetype": "text/x-python",
   "name": "python",
   "nbconvert_exporter": "python",
   "pygments_lexer": "ipython3",
   "version": "3.11.13"
  }
 },
 "nbformat": 4,
 "nbformat_minor": 5
}
