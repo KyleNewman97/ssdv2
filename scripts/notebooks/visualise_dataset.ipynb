{
 "cells": [
  {
   "cell_type": "markdown",
   "id": "2b10392c",
   "metadata": {},
   "source": [
    "## Visualise dataset\n",
    "Visualise a dataset using fiftyone"
   ]
  },
  {
   "cell_type": "code",
   "execution_count": null,
   "id": "96312457",
   "metadata": {},
   "outputs": [],
   "source": [
    "from pathlib import Path\n",
    "\n",
    "import torch\n",
    "import fiftyone as fo\n",
    "from tqdm import tqdm\n",
    "\n",
    "from ssdv2.dataset import DatasetManager\n",
    "from ssdv2.structs import DataSubset, FrameLabels"
   ]
  },
  {
   "cell_type": "markdown",
   "id": "db55e041",
   "metadata": {},
   "source": [
    "### Define constants"
   ]
  },
  {
   "cell_type": "code",
   "execution_count": null,
   "id": "ab08e77a",
   "metadata": {},
   "outputs": [],
   "source": [
    "DATASET_PATH = Path(\"\")\n",
    "DATASET_NAME = \"\"\n",
    "SUBSET = DataSubset.TRAIN\n",
    "\n",
    "DTYPE = torch.float32\n",
    "DEVICE = torch.device(\"cpu\")"
   ]
  },
  {
   "cell_type": "markdown",
   "id": "07f8fc23",
   "metadata": {},
   "source": [
    "### Display the dataset"
   ]
  },
  {
   "cell_type": "code",
   "execution_count": null,
   "id": "2f03b298",
   "metadata": {},
   "outputs": [],
   "source": [
    "dataset = fo.Dataset(DATASET_NAME)\n",
    "\n",
    "manager = DatasetManager(DATASET_PATH)\n",
    "sampler = manager.create_sampler(SUBSET, DTYPE, DEVICE)"
   ]
  },
  {
   "cell_type": "code",
   "execution_count": null,
   "id": "5b2cc4c3",
   "metadata": {},
   "outputs": [],
   "source": [
    "for image_file, label_file in tqdm(sampler.samples):\n",
    "    sample = fo.Sample(image_file)\n",
    "\n",
    "    # Read in the label file\n",
    "    objects = FrameLabels.from_file(label_file, manager.raw_class_names, DTYPE, DEVICE)\n",
    "\n",
    "    sample[\"ground_truth\"] = objects.fo_detections\n",
    "    dataset.add_sample(sample)"
   ]
  },
  {
   "cell_type": "code",
   "execution_count": null,
   "id": "bb1f4986",
   "metadata": {},
   "outputs": [],
   "source": [
    "session = fo.launch_app(dataset)"
   ]
  },
  {
   "cell_type": "code",
   "execution_count": null,
   "id": "2ef88569",
   "metadata": {},
   "outputs": [],
   "source": []
  }
 ],
 "metadata": {
  "kernelspec": {
   "display_name": "ssdv2-3.11 (3.11.13)",
   "language": "python",
   "name": "python3"
  },
  "language_info": {
   "codemirror_mode": {
    "name": "ipython",
    "version": 3
   },
   "file_extension": ".py",
   "mimetype": "text/x-python",
   "name": "python",
   "nbconvert_exporter": "python",
   "pygments_lexer": "ipython3",
   "version": "3.11.13"
  }
 },
 "nbformat": 4,
 "nbformat_minor": 5
}
