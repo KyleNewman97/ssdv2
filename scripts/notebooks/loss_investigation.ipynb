{
 "cells": [
  {
   "cell_type": "markdown",
   "id": "31b82c82",
   "metadata": {},
   "source": [
    "## Loss investigation\n",
    "An investigation into the loss functions."
   ]
  },
  {
   "cell_type": "code",
   "execution_count": null,
   "id": "88e77be2",
   "metadata": {},
   "outputs": [],
   "source": [
    "import torch\n",
    "import matplotlib.pyplot as plt\n",
    "from torch.nn import CrossEntropyLoss\n",
    "from torchvision.ops import sigmoid_focal_loss"
   ]
  },
  {
   "cell_type": "code",
   "execution_count": null,
   "id": "4cb428ef",
   "metadata": {},
   "outputs": [],
   "source": [
    "DTYPE = torch.float32\n",
    "DEVICE = torch.device(\"cpu\")"
   ]
  },
  {
   "cell_type": "markdown",
   "id": "068c021d",
   "metadata": {},
   "source": [
    "### Cross entropy loss"
   ]
  },
  {
   "cell_type": "code",
   "execution_count": null,
   "id": "969f25b6",
   "metadata": {},
   "outputs": [],
   "source": [
    "# Example model output (logits), shape: [batch_size, num_classes]\n",
    "logits = torch.stack(\n",
    "    (\n",
    "        torch.linspace(-2, 2, 201, dtype=DTYPE, device=DEVICE),\n",
    "        torch.linspace(2, -2, 201, dtype=DTYPE, device=DEVICE),\n",
    "    ),\n",
    "    dim=1,\n",
    ")\n",
    "\n",
    "# Ground truth labels, shape: [batch_size]\n",
    "target = torch.zeros((201,), dtype=torch.long)  # class index\n",
    "\n",
    "# Define the loss function\n",
    "criterion = CrossEntropyLoss(reduction=\"none\")\n",
    "\n",
    "# Compute the loss\n",
    "loss = criterion.forward(logits, target)"
   ]
  },
  {
   "cell_type": "code",
   "execution_count": null,
   "id": "744ff074",
   "metadata": {},
   "outputs": [],
   "source": [
    "probs = logits.softmax(dim=1)\n",
    "\n",
    "plt.plot(probs[:, 0].cpu().numpy(), loss.cpu().numpy())\n",
    "plt.grid()\n",
    "plt.xlabel(\"Class 0 Probability\")\n",
    "plt.ylabel(\"Loss\")\n",
    "plt.xlim([0, 1])\n",
    "plt.ylim([0, 5])\n",
    "plt.title(\"Cross entropy loss\\nGround truth class 0\")"
   ]
  },
  {
   "cell_type": "code",
   "execution_count": null,
   "id": "029f2fdd",
   "metadata": {},
   "outputs": [],
   "source": [
    "plt.plot(probs[:, 1].cpu().numpy(), loss.cpu().numpy())\n",
    "plt.grid()\n",
    "plt.xlabel(\"Class 0 Probability\")\n",
    "plt.ylabel(\"Loss\")\n",
    "plt.xlim([0, 1])\n",
    "plt.ylim([0, 5])\n",
    "plt.title(\"Cross entropy loss\\nGround truth class 1\")"
   ]
  },
  {
   "cell_type": "markdown",
   "id": "5aef8d9e",
   "metadata": {},
   "source": [
    "### Sigmoid focal loss"
   ]
  },
  {
   "cell_type": "code",
   "execution_count": null,
   "id": "7a8d0f51",
   "metadata": {},
   "outputs": [],
   "source": [
    "# Example model output (logits), shape: [batch_size, num_classes]\n",
    "logits = torch.stack(\n",
    "    (\n",
    "        torch.linspace(-4, 4, 201, dtype=DTYPE, device=DEVICE),\n",
    "        torch.linspace(4, -4, 201, dtype=DTYPE, device=DEVICE),\n",
    "    ),\n",
    "    dim=1,\n",
    ")\n",
    "\n",
    "# Targets, shape: [batch_size, num_classes]\n",
    "targets = torch.stack(\n",
    "    (\n",
    "        torch.ones((201,), dtype=DTYPE, device=DEVICE),\n",
    "        torch.zeros((201,), dtype=DTYPE, device=DEVICE),\n",
    "    ),\n",
    "    dim=1,\n",
    ")\n",
    "\n",
    "# Define the loss function\n",
    "loss = sigmoid_focal_loss(logits, targets, -1, 0, reduction=\"none\")"
   ]
  },
  {
   "cell_type": "code",
   "execution_count": null,
   "id": "ccb0b982",
   "metadata": {},
   "outputs": [],
   "source": [
    "probs = logits.sigmoid()\n",
    "\n",
    "plt.plot(probs[:, 0].cpu().numpy(), loss.cpu().numpy())\n",
    "plt.grid()\n",
    "plt.xlabel(\"Class 0 Probability\")\n",
    "plt.ylabel(\"Loss\")\n",
    "plt.xlim([0, 1])\n",
    "plt.ylim([0, 5])\n",
    "plt.title(\"Cross entropy loss\\nGround truth class 0\")"
   ]
  },
  {
   "cell_type": "code",
   "execution_count": null,
   "id": "78cc2e45",
   "metadata": {},
   "outputs": [],
   "source": [
    "import torch"
   ]
  },
  {
   "cell_type": "code",
   "execution_count": null,
   "id": "49bc1faa",
   "metadata": {},
   "outputs": [],
   "source": [
    "# Tensor you want to sort by\n",
    "sort_by = torch.rand((6,))\n",
    "\n",
    "# Tensor you want to reorder\n",
    "data = torch.rand((6,))\n",
    "\n",
    "# Get the sorting indices\n",
    "_, indices = torch.sort(sort_by, descending=True)\n",
    "\n",
    "# Use indices to sort the data tensor\n",
    "sorted_data = data[indices]\n",
    "\n",
    "print(sort_by)\n",
    "print(indices)\n",
    "print(data)\n",
    "print(sorted_data)"
   ]
  },
  {
   "cell_type": "code",
   "execution_count": null,
   "id": "58be3de0",
   "metadata": {},
   "outputs": [],
   "source": [
    "indices"
   ]
  },
  {
   "cell_type": "code",
   "execution_count": null,
   "id": "4b3bfab8",
   "metadata": {},
   "outputs": [],
   "source": []
  }
 ],
 "metadata": {
  "kernelspec": {
   "display_name": "ssdv2-3.11 (3.11.13)",
   "language": "python",
   "name": "python3"
  },
  "language_info": {
   "codemirror_mode": {
    "name": "ipython",
    "version": 3
   },
   "file_extension": ".py",
   "mimetype": "text/x-python",
   "name": "python",
   "nbconvert_exporter": "python",
   "pygments_lexer": "ipython3",
   "version": "3.11.13"
  }
 },
 "nbformat": 4,
 "nbformat_minor": 5
}
