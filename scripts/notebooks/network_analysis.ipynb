{
 "cells": [
  {
   "cell_type": "markdown",
   "id": "daf53562",
   "metadata": {},
   "source": [
    "## Network analysis\n",
    "A network to analyse various components associated with the network. This notebook\n",
    "should be used to better understand the network in order to make optimisations to it\n",
    "to improve performance and accuracy."
   ]
  },
  {
   "cell_type": "code",
   "execution_count": null,
   "id": "68454645",
   "metadata": {},
   "outputs": [],
   "source": [
    "import time\n",
    "\n",
    "import torch\n",
    "\n",
    "from ssdv2.models import SSDv2"
   ]
  },
  {
   "cell_type": "code",
   "execution_count": null,
   "id": "229b239a",
   "metadata": {},
   "outputs": [],
   "source": [
    "DTYPE = torch.float32\n",
    "DEVICE = torch.device(\"cuda:0\")\n",
    "\n",
    "NUM_CLASSES = 80\n",
    "MODEL = SSDv2(NUM_CLASSES).to(dtype=DTYPE, device=DEVICE)"
   ]
  },
  {
   "cell_type": "markdown",
   "id": "d8fb47b3",
   "metadata": {},
   "source": [
    "### Investigate model size"
   ]
  },
  {
   "cell_type": "code",
   "execution_count": null,
   "id": "029ed2cc",
   "metadata": {},
   "outputs": [],
   "source": [
    "print(f\"SSDv2 params: {sum([p.numel() for p in MODEL.parameters()]):.3e}\")\n",
    "print(f\"Backbone params: {sum([p.numel() for p in MODEL.backbone.parameters()]):.3e}\")\n",
    "print(f\"Neck params: {sum([p.numel() for p in MODEL.neck.parameters()]):.3e}\")\n",
    "print(f\"Head params: {sum([p.numel() for p in MODEL.head.parameters()]):.3e}\")"
   ]
  },
  {
   "cell_type": "markdown",
   "id": "84de9271",
   "metadata": {},
   "source": [
    "### Investigate execution times"
   ]
  },
  {
   "cell_type": "code",
   "execution_count": null,
   "id": "15f55013",
   "metadata": {},
   "outputs": [],
   "source": [
    "# Create a \"batch of images\" to infer on\n",
    "images = torch.rand((2, 3, 640, 640), dtype=DTYPE, device=DEVICE)\n",
    "\n",
    "all_start = time.time()\n",
    "\n",
    "# Run backbone\n",
    "start = time.time()\n",
    "fms = MODEL.backbone.forward(images)\n",
    "print(f\"Backbone time: {time.time() - start:.3f}s\")\n",
    "\n",
    "# Run neck\n",
    "start = time.time()\n",
    "fms = MODEL.neck.forward(fms)\n",
    "print(f\"Neck time: {time.time() - start:.3f}s\")\n",
    "\n",
    "# Run head\n",
    "start = time.time()\n",
    "logits, centerness, boxes = MODEL.head.forward(fms)\n",
    "print(f\"Head time: {time.time() - start:.3f}s\")\n",
    "\n",
    "total_time = time.time() - all_start\n",
    "print(f\"Total time: {total_time:.3f}s\")\n",
    "print(f\"Total FPS: {images.shape[0] / total_time:.3f}\")"
   ]
  },
  {
   "cell_type": "code",
   "execution_count": null,
   "id": "4bc9362b",
   "metadata": {},
   "outputs": [],
   "source": []
  }
 ],
 "metadata": {
  "kernelspec": {
   "display_name": "ssdv2-3.11 (3.11.13)",
   "language": "python",
   "name": "python3"
  },
  "language_info": {
   "codemirror_mode": {
    "name": "ipython",
    "version": 3
   },
   "file_extension": ".py",
   "mimetype": "text/x-python",
   "name": "python",
   "nbconvert_exporter": "python",
   "pygments_lexer": "ipython3",
   "version": "3.11.13"
  }
 },
 "nbformat": 4,
 "nbformat_minor": 5
}
